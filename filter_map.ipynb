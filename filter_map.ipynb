{
 "cells": [
  {
   "cell_type": "code",
   "execution_count": null,
   "metadata": {},
   "outputs": [],
   "source": [
    "# x = [1,2,3,4,5]\n",
    "\n",
    "# a = filter(lambda i: i % 2 ==0,x)\n",
    "# a = list(a)\n",
    "# # print(a)\n",
    "\n",
    "# b = map(lambda i: i **2, list(a))\n",
    "# print(list(b))\n",
    "\n",
    "# c = map(lambda i: i**2, filter(lambda j:j%2==0, x))\n",
    "# print(list(c))"
   ]
  }
 ],
 "metadata": {
  "kernelspec": {
   "display_name": "Python 3",
   "language": "python",
   "name": "python3"
  },
  "language_info": {
   "codemirror_mode": {
    "name": "ipython",
    "version": 3
   },
   "file_extension": ".py",
   "mimetype": "text/x-python",
   "name": "python",
   "nbconvert_exporter": "python",
   "pygments_lexer": "ipython3",
   "version": "3.8.1"
  }
 },
 "nbformat": 4,
 "nbformat_minor": 4
}
