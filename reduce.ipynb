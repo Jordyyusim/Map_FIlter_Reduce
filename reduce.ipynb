{
 "cells": [
  {
   "cell_type": "markdown",
   "metadata": {},
   "source": [
    "# REDUCE \n",
    "#### To reduce from some values into a single value\n",
    "#### Cannot change the datatype into list\n",
    "#### from functools import reduce"
   ]
  },
  {
   "cell_type": "code",
   "execution_count": null,
   "metadata": {},
   "outputs": [],
   "source": [
    "angka = [1, 2, 3, 4, 5]\n",
    "\n",
    "from functools import reduce\n",
    "z = reduce(lambda x, y: x + y, angka)\n",
    "print(z)\n",
    "\n",
    "from functools import reduce\n",
    "v = reduce(lambda x, y: x * y, angka)\n",
    "print(v)"
   ]
  },
  {
   "cell_type": "markdown",
   "metadata": {},
   "source": [
    "### Deciding the max and min value with reduce "
   ]
  },
  {
   "cell_type": "code",
   "execution_count": null,
   "metadata": {},
   "outputs": [],
   "source": [
    "angka = [1, 2, 3, 4, 5]\n",
    "\n",
    "from functools import reduce\n",
    "y = reduce(max, angka) \n",
    "print(y)\n",
    "\n",
    "from functools import reduce\n",
    "w = reduce(min, angka) \n",
    "print(w)"
   ]
  }
 ],
 "metadata": {
  "kernelspec": {
   "display_name": "Python 3",
   "language": "python",
   "name": "python3"
  },
  "language_info": {
   "codemirror_mode": {
    "name": "ipython",
    "version": 3
   },
   "file_extension": ".py",
   "mimetype": "text/x-python",
   "name": "python",
   "nbconvert_exporter": "python",
   "pygments_lexer": "ipython3",
   "version": "3.8.1"
  }
 },
 "nbformat": 4,
 "nbformat_minor": 4
}
