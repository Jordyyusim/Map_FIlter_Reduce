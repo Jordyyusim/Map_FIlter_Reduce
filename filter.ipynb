{
 "cells": [
  {
   "cell_type": "markdown",
   "metadata": {},
   "source": [
    "# FILTER\n",
    "#### The function must be type of booleans (True or False)\n",
    "#### func, iterable value "
   ]
  },
  {
   "cell_type": "code",
   "execution_count": null,
   "metadata": {},
   "outputs": [],
   "source": [
    "# x = [3, 5, 7, 4, 8, 9, 2]\n",
    "# def lebih4(i):\n",
    "#     if i > 4:\n",
    "#         return True\n",
    "#     else:\n",
    "#         return False\n",
    "# z = filter(lebih4, x)\n",
    "# print(list(z))"
   ]
  },
  {
   "cell_type": "code",
   "execution_count": null,
   "metadata": {},
   "outputs": [],
   "source": [
    "# x = [3, 5, 7, 4, 8, 9, 2]\n",
    "# a = filter(lambda i: True if i > 4 else False, x)\n",
    "# print(list(a))\n",
    "\n",
    "# b = filter(lambda i: i > 4, x)\n",
    "# print(list(b))"
   ]
  },
  {
   "cell_type": "code",
   "execution_count": null,
   "metadata": {},
   "outputs": [],
   "source": [
    "# x = [1, 2, 3, 4, 5, 6, 7 , 8, 9, 10]\n",
    "# y = [1, 2, 12, 4, 5, 13, 7, 8, 19, 10]\n",
    "# z = []\n",
    "# x = set(x)\n",
    "# y = set(y)\n",
    "\n",
    "# w = filter(lambda i: i in x, y)\n",
    "# print(list(w))"
   ]
  },
  {
   "cell_type": "markdown",
   "metadata": {},
   "source": [
    "### _Mencari bilangan prima dengan filter_"
   ]
  },
  {
   "cell_type": "code",
   "execution_count": null,
   "metadata": {},
   "outputs": [],
   "source": [
    "# data = range(0, 100)\n",
    "# for i in data:\n",
    "#     if i in data % i == 0:\n",
    "#         print(i)\n",
    "\n",
    "# data = list(range(0, 101))\n",
    "# def prima(x):\n",
    "#     if x > 1:\n",
    "#         if x == 2:\n",
    "#             return True\n",
    "#         else:\n",
    "#             for i in range(2, x):\n",
    "#                 if x % i == 0:\n",
    "#                     return False\n",
    "#                 return True\n",
    "#     else:\n",
    "#         return False\n",
    "# print(prima(10))\n",
    "# z = list(filter(prima, data))\n",
    "# print(z)"
   ]
  }
 ],
 "metadata": {
  "kernelspec": {
   "display_name": "Python 3",
   "language": "python",
   "name": "python3"
  },
  "language_info": {
   "codemirror_mode": {
    "name": "ipython",
    "version": 3
   },
   "file_extension": ".py",
   "mimetype": "text/x-python",
   "name": "python",
   "nbconvert_exporter": "python",
   "pygments_lexer": "ipython3",
   "version": "3.8.1"
  }
 },
 "nbformat": 4,
 "nbformat_minor": 4
}
