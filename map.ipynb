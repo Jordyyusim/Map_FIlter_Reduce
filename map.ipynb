{
 "cells": [
  {
   "cell_type": "markdown",
   "metadata": {},
   "source": [
    "# __MAP__ \n",
    "#### To do a function to every elements in iterable value(yg bs diubah)\n",
    "#### map(func, value)"
   ]
  },
  {
   "cell_type": "code",
   "execution_count": null,
   "metadata": {},
   "outputs": [],
   "source": [
    "# x = [1, 2, 3, 4, 5]\n",
    "# def jumlah(i):\n",
    "#     return i + i\n",
    "# y = map(jumlah, x)\n",
    "# print(list(y))"
   ]
  },
  {
   "cell_type": "code",
   "execution_count": null,
   "metadata": {},
   "outputs": [],
   "source": [
    "# x = [1, 2, 3, 4, 5]\n",
    "# y = map(lambda i: i + i, x)\n",
    "# print(list(y))\n",
    "# z = map(lambda i: i ** 3, x)\n",
    "# print(list(z))"
   ]
  },
  {
   "cell_type": "code",
   "execution_count": null,
   "metadata": {},
   "outputs": [],
   "source": [
    "# w = [2, 2, 2, 2, 2]\n",
    "# x = [1, 2, 3, 4, 5]\n",
    "# y = [5, 4, 3, 2, 1]\n",
    "# def jumlah(i, j):\n",
    "#     return(i + j)\n",
    "# z = map(jumlah, x, y)\n",
    "# print(list(z))\n",
    "\n",
    "# z = map(pow, x, y)\n",
    "# print(list(z))"
   ]
  }
 ],
 "metadata": {
  "kernelspec": {
   "display_name": "Python 3",
   "language": "python",
   "name": "python3"
  },
  "language_info": {
   "codemirror_mode": {
    "name": "ipython",
    "version": 3
   },
   "file_extension": ".py",
   "mimetype": "text/x-python",
   "name": "python",
   "nbconvert_exporter": "python",
   "pygments_lexer": "ipython3",
   "version": "3.8.1"
  }
 },
 "nbformat": 4,
 "nbformat_minor": 4
}
